{
 "cells": [
  {
   "cell_type": "markdown",
   "metadata": {},
   "source": [
    "# Проект с решением задачи классификации музыкальных жанров"
   ]
  },
  {
   "cell_type": "code",
   "execution_count": null,
   "metadata": {},
   "outputs": [],
   "source": [
    "# Данные GTZAN Dataset - Music Genre Classification для обучения можно скачать по ссылке:\n",
    "# https://www.kaggle.com/datasets/andradaolteanu/gtzan-dataset-music-genre-classification\n",
    "# Примечание: В исходном Dataset в одном из классов есть битый *.wav-файл, для корректной работы его необходимо удалить"
   ]
  },
  {
   "cell_type": "code",
   "execution_count": 1,
   "metadata": {},
   "outputs": [],
   "source": [
    "# импорт необходимых зависимостей\n",
    "import json\n",
    "import os\n",
    "import math\n",
    "import librosa\n",
    "import numpy as np\n",
    "from sklearn.model_selection import train_test_split\n",
    "import tensorflow.keras as keras\n",
    "import matplotlib.pyplot as plt"
   ]
  },
  {
   "cell_type": "code",
   "execution_count": 2,
   "metadata": {},
   "outputs": [],
   "source": [
    "# Объявление глобальных переменных\n",
    "\n",
    "DATASET_PATH = \"D:\\\\GTZAN Dataset\\\\Data\\\\genres_original\" # Пропиываем ваш путь\n",
    "JSON_PATH = \"D:\\\\GTZAN Dataset\\\\data.json\" # Прописываем ваш путь\n",
    "SAMPLE_RATE = 22050 # указываем частоту дискретизации\n",
    "TRACK_DURATION = 30 # 30 секунд в каждом треке\n",
    "SAMPLES_PER_TRACK = SAMPLE_RATE * TRACK_DURATION # вычисляем количесвто отсчётов в треке"
   ]
  },
  {
   "cell_type": "markdown",
   "metadata": {},
   "source": [
    "## Извлечение признакового пространства из аудиофайлов"
   ]
  },
  {
   "cell_type": "code",
   "execution_count": 3,
   "metadata": {},
   "outputs": [],
   "source": [
    "# функция, извлекающая признаки аудиосигналов, используем MFCCs\n",
    "def save_mfcc(dataset_path, json_path, num_mfcc=13, n_fft=2048, hop_length=512, num_segments=5):\n",
    "    \n",
    "    # словарь с картой, метки классов и MFCCs\n",
    "    data = {\n",
    "        \"mapping\": [],\n",
    "        \"labels\": [],\n",
    "        \"mfcc\": []\n",
    "    }\n",
    "\n",
    "    num_samples_per_segment = int(SAMPLES_PER_TRACK / num_segments)\n",
    "    \n",
    "    num_mfcc_vectors_per_segment = math.ceil(num_samples_per_segment / hop_length)\n",
    "\n",
    "    # прохождение по директориям с файлами\n",
    "    for i, (dirpath, dirnames, filenames) in enumerate(os.walk(dataset_path)):\n",
    "\n",
    "        if dirpath is not dataset_path:\n",
    "\n",
    "            # Сохранение меток классов \n",
    "            semantic_label = dirpath.split(\"/\")[-1]\n",
    "            data[\"mapping\"].append(semantic_label)\n",
    "            print(\"\\nProcessing: {}\".format(semantic_label))\n",
    "\n",
    "            # обработка всех файлов в директориях с классами\n",
    "            for f in filenames:\n",
    "\n",
    "                # считывание аудио данных\n",
    "                file_path = os.path.join(dirpath, f)\n",
    "                signal, sample_rate = librosa.load(file_path, sr=SAMPLE_RATE)\n",
    "\n",
    "                # обрботка всех сегментов аудиофайлов\n",
    "                for d in range(num_segments):\n",
    "\n",
    "                    # вычисляем начало и конец для конкретного сегмента\n",
    "                    start = num_samples_per_segment * d\n",
    "                    finish = start + num_samples_per_segment\n",
    "\n",
    "                    # извлечение mfcc\n",
    "                    mfcc = librosa.feature.mfcc(signal[start:finish], sample_rate, \n",
    "                        n_mfcc=num_mfcc, n_fft=n_fft, hop_length=hop_length)\n",
    "                    mfcc = mfcc.T\n",
    "\n",
    "                    # сохраняем признаки для каждого вектора\n",
    "                    if len(mfcc) == num_mfcc_vectors_per_segment:\n",
    "                        data[\"mfcc\"].append(mfcc.tolist())\n",
    "                        data[\"labels\"].append(i-1)\n",
    "                        #print(\"{}, segment:{}\".format(file_path, d+1)) - можно включить для отображения логов\n",
    "\n",
    "    # сохраняем в json\n",
    "    with open(json_path, \"w\") as fp:\n",
    "        json.dump(data, fp, indent=4)\n"
   ]
  },
  {
   "cell_type": "code",
   "execution_count": 4,
   "metadata": {},
   "outputs": [
    {
     "name": "stdout",
     "output_type": "stream",
     "text": [
      "\n",
      "Processing: D:\\GTZAN Dataset\\Data\\genres_original\\blues\n",
      "\n",
      "Processing: D:\\GTZAN Dataset\\Data\\genres_original\\classical\n",
      "\n",
      "Processing: D:\\GTZAN Dataset\\Data\\genres_original\\country\n",
      "\n",
      "Processing: D:\\GTZAN Dataset\\Data\\genres_original\\disco\n",
      "\n",
      "Processing: D:\\GTZAN Dataset\\Data\\genres_original\\hiphop\n",
      "\n",
      "Processing: D:\\GTZAN Dataset\\Data\\genres_original\\jazz\n",
      "\n",
      "Processing: D:\\GTZAN Dataset\\Data\\genres_original\\metal\n",
      "\n",
      "Processing: D:\\GTZAN Dataset\\Data\\genres_original\\pop\n",
      "\n",
      "Processing: D:\\GTZAN Dataset\\Data\\genres_original\\reggae\n",
      "\n",
      "Processing: D:\\GTZAN Dataset\\Data\\genres_original\\rock\n"
     ]
    }
   ],
   "source": [
    "# При запуске функции программа упадёт, так как будет ругаться на битый файл. \n",
    "# Путь к этому файлу будет указан в описании к ошибке. Просто удалите этот файл и запустите функцию заново    \n",
    "\n",
    "save_mfcc(DATASET_PATH, JSON_PATH, num_segments=10)"
   ]
  },
  {
   "cell_type": "markdown",
   "metadata": {},
   "source": [
    "## Построение архитектуры полносвязной нейросети для обучения"
   ]
  },
  {
   "cell_type": "code",
   "execution_count": 8,
   "metadata": {},
   "outputs": [],
   "source": [
    "# Загрузка данных из файла\n",
    "\n",
    "DATA_PATH = \"D:\\\\GTZAN Dataset\\\\data.json\" # указывайте ваш путь к файлу\n",
    "\n",
    "def load_data(data_path):\n",
    "    \n",
    "    with open(data_path, \"r\") as fp:\n",
    "        data = json.load(fp)\n",
    "\n",
    "    X = np.array(data[\"mfcc\"])\n",
    "    y = np.array(data[\"labels\"])\n",
    "\n",
    "    print(\"Данные успешно загружены!\")\n",
    "\n",
    "    return  X, y"
   ]
  },
  {
   "cell_type": "markdown",
   "metadata": {},
   "source": [
    "## Описание архитектуры"
   ]
  },
  {
   "cell_type": "code",
   "execution_count": 19,
   "metadata": {},
   "outputs": [
    {
     "name": "stdout",
     "output_type": "stream",
     "text": [
      "Данные успешно загружены!\n",
      "Model: \"sequential_1\"\n",
      "_________________________________________________________________\n",
      " Layer (type)                Output Shape              Param #   \n",
      "=================================================================\n",
      " flatten_1 (Flatten)         (None, 1690)              0         \n",
      "                                                                 \n",
      " dense_2 (Dense)             (None, 512)               865792    \n",
      "                                                                 \n",
      " dense_3 (Dense)             (None, 256)               131328    \n",
      "                                                                 \n",
      " dense_4 (Dense)             (None, 64)                16448     \n",
      "                                                                 \n",
      " dense_5 (Dense)             (None, 10)                650       \n",
      "                                                                 \n",
      "=================================================================\n",
      "Total params: 1,014,218\n",
      "Trainable params: 1,014,218\n",
      "Non-trainable params: 0\n",
      "_________________________________________________________________\n"
     ]
    }
   ],
   "source": [
    "# загрузка признаков и меток\n",
    "X, y = load_data(DATA_PATH)\n",
    "\n",
    "# разбиение выборки на train/test \n",
    "X_train, X_test, y_train, y_test = train_test_split(X, y, test_size=0.2)\n",
    "\n",
    "# топология сети\n",
    "model = keras.Sequential([\n",
    "\n",
    "    # входной слой\n",
    "    keras.layers.Flatten(input_shape=(X.shape[1], X.shape[2])),\n",
    "\n",
    "    # 1-ый слой\n",
    "    keras.layers.Dense(512, activation='relu'),\n",
    "        \n",
    "    # 2-ой слой\n",
    "    keras.layers.Dense(256, activation='relu'),\n",
    "        \n",
    "    # 3-й слой\n",
    "    keras.layers.Dense(64, activation='relu'),\n",
    "\n",
    "    # выходной слой\n",
    "    keras.layers.Dense(10, activation='softmax')\n",
    "])\n",
    "\n",
    "# компиляция модели\n",
    "optimiser = keras.optimizers.Adam(learning_rate=0.0001)\n",
    "model.compile(optimizer=optimiser,\n",
    "              loss='sparse_categorical_crossentropy',\n",
    "              metrics=['accuracy'])\n",
    "\n",
    "model.summary()\n"
   ]
  },
  {
   "cell_type": "code",
   "execution_count": 20,
   "metadata": {},
   "outputs": [
    {
     "name": "stdout",
     "output_type": "stream",
     "text": [
      "Epoch 1/50\n",
      "250/250 [==============================] - 3s 11ms/step - loss: 5.2471 - accuracy: 0.2243 - val_loss: 2.1482 - val_accuracy: 0.2508\n",
      "Epoch 2/50\n",
      "250/250 [==============================] - 2s 8ms/step - loss: 1.9121 - accuracy: 0.3287 - val_loss: 2.0409 - val_accuracy: 0.2893\n",
      "Epoch 3/50\n",
      "250/250 [==============================] - 2s 9ms/step - loss: 1.7618 - accuracy: 0.3669 - val_loss: 1.9118 - val_accuracy: 0.3393\n",
      "Epoch 4/50\n",
      "250/250 [==============================] - 2s 9ms/step - loss: 1.6493 - accuracy: 0.4011 - val_loss: 1.8224 - val_accuracy: 0.3829\n",
      "Epoch 5/50\n",
      "250/250 [==============================] - 2s 7ms/step - loss: 1.5734 - accuracy: 0.4303 - val_loss: 1.8527 - val_accuracy: 0.3734\n",
      "Epoch 6/50\n",
      "250/250 [==============================] - 2s 7ms/step - loss: 1.5086 - accuracy: 0.4551 - val_loss: 1.8938 - val_accuracy: 0.3959\n",
      "Epoch 7/50\n",
      "250/250 [==============================] - 2s 7ms/step - loss: 1.4320 - accuracy: 0.4840 - val_loss: 1.7915 - val_accuracy: 0.4299\n",
      "Epoch 8/50\n",
      "250/250 [==============================] - 2s 7ms/step - loss: 1.4232 - accuracy: 0.4894 - val_loss: 1.7285 - val_accuracy: 0.4174\n",
      "Epoch 9/50\n",
      "250/250 [==============================] - 2s 7ms/step - loss: 1.3191 - accuracy: 0.5295 - val_loss: 1.7420 - val_accuracy: 0.4520\n",
      "Epoch 10/50\n",
      "250/250 [==============================] - 2s 7ms/step - loss: 1.2946 - accuracy: 0.5328 - val_loss: 1.7535 - val_accuracy: 0.4535\n",
      "Epoch 11/50\n",
      "250/250 [==============================] - 2s 7ms/step - loss: 1.2045 - accuracy: 0.5647 - val_loss: 1.8143 - val_accuracy: 0.4104\n",
      "Epoch 12/50\n",
      "250/250 [==============================] - 2s 7ms/step - loss: 1.1869 - accuracy: 0.5705 - val_loss: 1.8257 - val_accuracy: 0.4555\n",
      "Epoch 13/50\n",
      "250/250 [==============================] - 2s 7ms/step - loss: 1.1048 - accuracy: 0.5959 - val_loss: 1.8486 - val_accuracy: 0.4660\n",
      "Epoch 14/50\n",
      "250/250 [==============================] - 2s 7ms/step - loss: 1.0727 - accuracy: 0.6050 - val_loss: 1.7396 - val_accuracy: 0.4680\n",
      "Epoch 15/50\n",
      "250/250 [==============================] - 2s 7ms/step - loss: 0.9962 - accuracy: 0.6287 - val_loss: 1.7282 - val_accuracy: 0.5130\n",
      "Epoch 16/50\n",
      "250/250 [==============================] - 2s 7ms/step - loss: 0.9563 - accuracy: 0.6397 - val_loss: 1.7237 - val_accuracy: 0.5025\n",
      "Epoch 17/50\n",
      "250/250 [==============================] - 2s 7ms/step - loss: 0.9196 - accuracy: 0.6639 - val_loss: 1.7400 - val_accuracy: 0.4925\n",
      "Epoch 18/50\n",
      "250/250 [==============================] - 2s 7ms/step - loss: 0.8781 - accuracy: 0.6696 - val_loss: 1.7269 - val_accuracy: 0.5035\n",
      "Epoch 19/50\n",
      "250/250 [==============================] - 2s 6ms/step - loss: 0.8523 - accuracy: 0.6789 - val_loss: 1.8074 - val_accuracy: 0.5290\n",
      "Epoch 20/50\n",
      "250/250 [==============================] - 2s 7ms/step - loss: 0.7855 - accuracy: 0.7107 - val_loss: 1.7520 - val_accuracy: 0.5195\n",
      "Epoch 21/50\n",
      "250/250 [==============================] - 2s 7ms/step - loss: 0.7631 - accuracy: 0.7137 - val_loss: 1.8626 - val_accuracy: 0.5245\n",
      "Epoch 22/50\n",
      "250/250 [==============================] - 2s 6ms/step - loss: 0.7161 - accuracy: 0.7342 - val_loss: 1.9481 - val_accuracy: 0.5335\n",
      "Epoch 23/50\n",
      "250/250 [==============================] - 2s 7ms/step - loss: 0.6648 - accuracy: 0.7520 - val_loss: 1.7228 - val_accuracy: 0.5676\n",
      "Epoch 24/50\n",
      "250/250 [==============================] - 2s 7ms/step - loss: 0.6483 - accuracy: 0.7635 - val_loss: 1.8048 - val_accuracy: 0.5566\n",
      "Epoch 25/50\n",
      "250/250 [==============================] - 2s 7ms/step - loss: 0.5787 - accuracy: 0.7830 - val_loss: 1.7539 - val_accuracy: 0.5596\n",
      "Epoch 26/50\n",
      "250/250 [==============================] - 2s 7ms/step - loss: 0.5574 - accuracy: 0.8003 - val_loss: 1.7801 - val_accuracy: 0.5676\n",
      "Epoch 27/50\n",
      "250/250 [==============================] - 2s 7ms/step - loss: 0.5165 - accuracy: 0.8101 - val_loss: 1.9688 - val_accuracy: 0.5726\n",
      "Epoch 28/50\n",
      "250/250 [==============================] - 2s 7ms/step - loss: 0.4802 - accuracy: 0.8289 - val_loss: 1.9739 - val_accuracy: 0.5656\n",
      "Epoch 29/50\n",
      "250/250 [==============================] - 2s 7ms/step - loss: 0.4617 - accuracy: 0.8322 - val_loss: 1.9750 - val_accuracy: 0.5546\n",
      "Epoch 30/50\n",
      "250/250 [==============================] - 2s 6ms/step - loss: 0.4916 - accuracy: 0.8210 - val_loss: 1.8346 - val_accuracy: 0.5691\n",
      "Epoch 31/50\n",
      "250/250 [==============================] - 2s 6ms/step - loss: 0.4209 - accuracy: 0.8478 - val_loss: 1.8105 - val_accuracy: 0.5896\n",
      "Epoch 32/50\n",
      "250/250 [==============================] - 2s 7ms/step - loss: 0.4065 - accuracy: 0.8509 - val_loss: 1.8884 - val_accuracy: 0.5756\n",
      "Epoch 33/50\n",
      "250/250 [==============================] - 2s 7ms/step - loss: 0.3944 - accuracy: 0.8544 - val_loss: 1.9785 - val_accuracy: 0.5756\n",
      "Epoch 34/50\n",
      "250/250 [==============================] - 2s 7ms/step - loss: 0.3863 - accuracy: 0.8639 - val_loss: 1.8154 - val_accuracy: 0.5826\n",
      "Epoch 35/50\n",
      "250/250 [==============================] - 2s 7ms/step - loss: 0.3271 - accuracy: 0.8777 - val_loss: 2.0238 - val_accuracy: 0.5856\n",
      "Epoch 36/50\n",
      "250/250 [==============================] - 2s 7ms/step - loss: 0.3274 - accuracy: 0.8846 - val_loss: 1.9406 - val_accuracy: 0.5951\n",
      "Epoch 37/50\n",
      "250/250 [==============================] - 2s 7ms/step - loss: 0.3200 - accuracy: 0.8838 - val_loss: 2.0331 - val_accuracy: 0.5806\n",
      "Epoch 38/50\n",
      "250/250 [==============================] - 2s 7ms/step - loss: 0.2832 - accuracy: 0.8993 - val_loss: 2.0814 - val_accuracy: 0.5956\n",
      "Epoch 39/50\n",
      "250/250 [==============================] - 2s 7ms/step - loss: 0.2510 - accuracy: 0.9131 - val_loss: 2.0390 - val_accuracy: 0.5896\n",
      "Epoch 40/50\n",
      "250/250 [==============================] - 2s 6ms/step - loss: 0.2828 - accuracy: 0.8965 - val_loss: 2.1664 - val_accuracy: 0.5856\n",
      "Epoch 41/50\n",
      "250/250 [==============================] - 2s 7ms/step - loss: 0.2739 - accuracy: 0.9011 - val_loss: 2.2268 - val_accuracy: 0.6011\n",
      "Epoch 42/50\n",
      "250/250 [==============================] - 2s 7ms/step - loss: 0.2110 - accuracy: 0.9248 - val_loss: 2.3319 - val_accuracy: 0.5856\n",
      "Epoch 43/50\n",
      "250/250 [==============================] - 2s 7ms/step - loss: 0.2223 - accuracy: 0.9209 - val_loss: 2.1848 - val_accuracy: 0.5961\n",
      "Epoch 44/50\n",
      "250/250 [==============================] - 2s 7ms/step - loss: 0.2220 - accuracy: 0.9249 - val_loss: 2.2442 - val_accuracy: 0.6071\n",
      "Epoch 45/50\n",
      "250/250 [==============================] - 2s 7ms/step - loss: 0.1951 - accuracy: 0.9311 - val_loss: 2.3587 - val_accuracy: 0.5906\n",
      "Epoch 46/50\n",
      "250/250 [==============================] - 2s 7ms/step - loss: 0.1917 - accuracy: 0.9296 - val_loss: 2.1847 - val_accuracy: 0.6026\n",
      "Epoch 47/50\n",
      "250/250 [==============================] - 2s 7ms/step - loss: 0.1748 - accuracy: 0.9388 - val_loss: 2.3056 - val_accuracy: 0.6046\n",
      "Epoch 48/50\n",
      "250/250 [==============================] - 2s 7ms/step - loss: 0.2052 - accuracy: 0.9275 - val_loss: 2.3142 - val_accuracy: 0.5911\n",
      "Epoch 49/50\n",
      "250/250 [==============================] - 2s 7ms/step - loss: 0.1578 - accuracy: 0.9472 - val_loss: 2.4697 - val_accuracy: 0.6021\n",
      "Epoch 50/50\n",
      "250/250 [==============================] - 2s 7ms/step - loss: 0.1999 - accuracy: 0.9306 - val_loss: 2.2331 - val_accuracy: 0.6056\n"
     ]
    }
   ],
   "source": [
    "# обучение модели\n",
    "history = model.fit(X_train, y_train, validation_data=(X_test, y_test), batch_size=32, epochs=50)"
   ]
  },
  {
   "cell_type": "markdown",
   "metadata": {},
   "source": [
    "## Визуализация результатов обучения"
   ]
  },
  {
   "cell_type": "code",
   "execution_count": 21,
   "metadata": {},
   "outputs": [],
   "source": [
    "def plot_history(history):\n",
    "    fig, axs = plt.subplots(2)\n",
    "    # создание accuracy subplot\n",
    "    axs[0].plot(history.history[\"accuracy\"], label='train accuracy')\n",
    "    axs[0].plot(history.history[\"val_accuracy\"], label='test accuracy')\n",
    "    axs[0].set_ylabel('Accuracy')\n",
    "    axs[0].legend(loc='lower right')\n",
    "    axs[0].set_title('Accuracy eval')\n",
    "    fig.set_figwidth(10)\n",
    "    fig.set_figheight(10)\n",
    "    # создание error subplot\n",
    "    axs[1].plot(history.history[\"loss\"], label='train error')\n",
    "    axs[1].plot(history.history[\"val_loss\"], label='test error')\n",
    "    axs[1].set_xlabel('Epoch')\n",
    "    axs[1].set_ylabel('Error')\n",
    "    axs[1].legend(loc='upper right')\n",
    "    axs[1].set_title('Error eval')\n",
    "    \n",
    "    plt.show()"
   ]
  },
  {
   "cell_type": "code",
   "execution_count": 22,
   "metadata": {},
   "outputs": [
    {
     "data": {
      "image/png": "[encoded data removed]",
      "text/plain": [
       "<Figure size 720x720 with 2 Axes>"
      ]
     },
     "metadata": {
      "needs_background": "light"
     },
     "output_type": "display_data"
    }
   ],
   "source": [
    "plot_history(history) # визуализация результата"
   ]
  },
  {
   "cell_type": "markdown",
   "metadata": {},
   "source": [
    "### В результате анализа графиков наблюдаем процесс переобучения сети. Это видно из разницы accuracy на обучающей и валидационной выборке. Существует несколько эффективных способов борьбы с overfitting: упрощение архитектуры сети, аугментация данных, ранняя остановка обучения, удаление выбросов и регуляризация."
   ]
  },
  {
   "cell_type": "markdown",
   "metadata": {},
   "source": [
    "## Dropout & Regularization"
   ]
  },
  {
   "cell_type": "code",
   "execution_count": 23,
   "metadata": {},
   "outputs": [
    {
     "name": "stdout",
     "output_type": "stream",
     "text": [
      "Model: \"sequential_2\"\n",
      "_________________________________________________________________\n",
      " Layer (type)                Output Shape              Param #   \n",
      "=================================================================\n",
      " flatten_2 (Flatten)         (None, 1690)              0         \n",
      "                                                                 \n",
      " dense_6 (Dense)             (None, 512)               865792    \n",
      "                                                                 \n",
      " dropout_1 (Dropout)         (None, 512)               0         \n",
      "                                                                 \n",
      " dense_7 (Dense)             (None, 256)               131328    \n",
      "                                                                 \n",
      " dropout_2 (Dropout)         (None, 256)               0         \n",
      "                                                                 \n",
      " dense_8 (Dense)             (None, 64)                16448     \n",
      "                                                                 \n",
      " dropout_3 (Dropout)         (None, 64)                0         \n",
      "                                                                 \n",
      " dense_9 (Dense)             (None, 10)                650       \n",
      "                                                                 \n",
      "=================================================================\n",
      "Total params: 1,014,218\n",
      "Trainable params: 1,014,218\n",
      "Non-trainable params: 0\n",
      "_________________________________________________________________\n"
     ]
    }
   ],
   "source": [
    "# топология сети\n",
    "model_2 = keras.Sequential([\n",
    "\n",
    "    # входной слой\n",
    "    keras.layers.Flatten(input_shape=(X.shape[1], X.shape[2])),\n",
    "\n",
    "    # 1-ый слой\n",
    "    keras.layers.Dense(512, activation='relu', kernel_regularizer=keras.regularizers.l2(0.001)),\n",
    "    keras.layers.Dropout(0.3),\n",
    "    \n",
    "    # 2-ой слой\n",
    "    keras.layers.Dense(256, activation='relu', kernel_regularizer=keras.regularizers.l2(0.001)),\n",
    "    keras.layers.Dropout(0.3),\n",
    "    \n",
    "    # 3-й слой\n",
    "    keras.layers.Dense(64, activation='relu', kernel_regularizer=keras.regularizers.l2(0.001)),\n",
    "    keras.layers.Dropout(0.3),\n",
    "    \n",
    "    # выходной слой\n",
    "    keras.layers.Dense(10, activation='softmax')\n",
    "])\n",
    "\n",
    "# компиляция модели\n",
    "optimiser = keras.optimizers.Adam(learning_rate=0.0001)\n",
    "model_2.compile(optimizer=optimiser,\n",
    "              loss='sparse_categorical_crossentropy',\n",
    "              metrics=['accuracy'])\n",
    "\n",
    "model_2.summary()\n"
   ]
  },
  {
   "cell_type": "code",
   "execution_count": 24,
   "metadata": {},
   "outputs": [
    {
     "name": "stdout",
     "output_type": "stream",
     "text": [
      "Epoch 1/100\n",
      "250/250 [==============================] - 5s 15ms/step - loss: 18.0964 - accuracy: 0.1526 - val_loss: 3.4287 - val_accuracy: 0.1662\n",
      "Epoch 2/100\n",
      "250/250 [==============================] - 3s 13ms/step - loss: 5.3837 - accuracy: 0.1378 - val_loss: 3.4691 - val_accuracy: 0.1421\n",
      "Epoch 3/100\n",
      "250/250 [==============================] - 3s 12ms/step - loss: 4.0744 - accuracy: 0.1242 - val_loss: 3.4813 - val_accuracy: 0.1351\n",
      "Epoch 4/100\n",
      "250/250 [==============================] - 3s 11ms/step - loss: 3.7396 - accuracy: 0.1267 - val_loss: 3.4540 - val_accuracy: 0.1522\n",
      "Epoch 5/100\n",
      "250/250 [==============================] - 3s 11ms/step - loss: 3.6216 - accuracy: 0.1304 - val_loss: 3.4223 - val_accuracy: 0.1752\n",
      "Epoch 6/100\n",
      "250/250 [==============================] - 3s 11ms/step - loss: 3.5479 - accuracy: 0.1453 - val_loss: 3.3905 - val_accuracy: 0.1882\n",
      "Epoch 7/100\n",
      "250/250 [==============================] - 3s 11ms/step - loss: 3.5189 - accuracy: 0.1488 - val_loss: 3.3829 - val_accuracy: 0.1827\n",
      "Epoch 8/100\n",
      "250/250 [==============================] - 3s 11ms/step - loss: 3.4461 - accuracy: 0.1680 - val_loss: 3.3164 - val_accuracy: 0.1967\n",
      "Epoch 9/100\n",
      "250/250 [==============================] - 3s 10ms/step - loss: 3.4083 - accuracy: 0.1759 - val_loss: 3.3024 - val_accuracy: 0.2002\n",
      "Epoch 10/100\n",
      "250/250 [==============================] - 3s 10ms/step - loss: 3.3871 - accuracy: 0.1821 - val_loss: 3.2613 - val_accuracy: 0.2202\n",
      "Epoch 11/100\n",
      "250/250 [==============================] - 3s 10ms/step - loss: 3.3493 - accuracy: 0.1919 - val_loss: 3.2430 - val_accuracy: 0.2137\n",
      "Epoch 12/100\n",
      "250/250 [==============================] - 3s 10ms/step - loss: 3.3242 - accuracy: 0.1978 - val_loss: 3.2056 - val_accuracy: 0.2342\n",
      "Epoch 13/100\n",
      "250/250 [==============================] - 3s 11ms/step - loss: 3.2997 - accuracy: 0.1983 - val_loss: 3.2084 - val_accuracy: 0.2252\n",
      "Epoch 14/100\n",
      "250/250 [==============================] - 3s 10ms/step - loss: 3.2848 - accuracy: 0.2004 - val_loss: 3.1444 - val_accuracy: 0.2487\n",
      "Epoch 15/100\n",
      "250/250 [==============================] - 3s 11ms/step - loss: 3.2383 - accuracy: 0.2091 - val_loss: 3.1255 - val_accuracy: 0.2467\n",
      "Epoch 16/100\n",
      "250/250 [==============================] - 3s 11ms/step - loss: 3.2219 - accuracy: 0.2116 - val_loss: 3.1116 - val_accuracy: 0.2422\n",
      "Epoch 17/100\n",
      "250/250 [==============================] - 3s 10ms/step - loss: 3.2012 - accuracy: 0.2109 - val_loss: 3.1122 - val_accuracy: 0.2357\n",
      "Epoch 18/100\n",
      "250/250 [==============================] - 3s 10ms/step - loss: 3.1595 - accuracy: 0.2197 - val_loss: 3.0636 - val_accuracy: 0.2543\n",
      "Epoch 19/100\n",
      "250/250 [==============================] - 3s 11ms/step - loss: 3.1273 - accuracy: 0.2258 - val_loss: 3.0507 - val_accuracy: 0.2447\n",
      "Epoch 20/100\n",
      "250/250 [==============================] - 3s 11ms/step - loss: 3.0893 - accuracy: 0.2390 - val_loss: 3.0107 - val_accuracy: 0.2638\n",
      "Epoch 21/100\n",
      "250/250 [==============================] - 3s 11ms/step - loss: 3.0698 - accuracy: 0.2427 - val_loss: 2.9928 - val_accuracy: 0.2608\n",
      "Epoch 22/100\n",
      "250/250 [==============================] - 3s 11ms/step - loss: 3.0442 - accuracy: 0.2441 - val_loss: 2.9490 - val_accuracy: 0.2638\n",
      "Epoch 23/100\n",
      "250/250 [==============================] - 3s 10ms/step - loss: 3.0029 - accuracy: 0.2474 - val_loss: 2.9112 - val_accuracy: 0.2683\n",
      "Epoch 24/100\n",
      "250/250 [==============================] - 3s 10ms/step - loss: 2.9745 - accuracy: 0.2535 - val_loss: 2.8952 - val_accuracy: 0.2673\n",
      "Epoch 25/100\n",
      "250/250 [==============================] - 3s 10ms/step - loss: 2.9542 - accuracy: 0.2494 - val_loss: 2.8754 - val_accuracy: 0.2708\n",
      "Epoch 26/100\n",
      "250/250 [==============================] - 3s 11ms/step - loss: 2.9173 - accuracy: 0.2539 - val_loss: 2.8350 - val_accuracy: 0.2833\n",
      "Epoch 27/100\n",
      "250/250 [==============================] - 3s 10ms/step - loss: 2.8654 - accuracy: 0.2757 - val_loss: 2.8242 - val_accuracy: 0.2703\n",
      "Epoch 28/100\n",
      "250/250 [==============================] - 3s 10ms/step - loss: 2.8397 - accuracy: 0.2739 - val_loss: 2.7624 - val_accuracy: 0.2808\n",
      "Epoch 29/100\n",
      "250/250 [==============================] - 3s 10ms/step - loss: 2.7873 - accuracy: 0.2760 - val_loss: 2.7280 - val_accuracy: 0.2868\n",
      "Epoch 30/100\n",
      "250/250 [==============================] - 3s 11ms/step - loss: 2.7653 - accuracy: 0.2861 - val_loss: 2.6932 - val_accuracy: 0.2938\n",
      "Epoch 31/100\n",
      "250/250 [==============================] - 3s 10ms/step - loss: 2.7230 - accuracy: 0.2883 - val_loss: 2.6470 - val_accuracy: 0.3093\n",
      "Epoch 32/100\n",
      "250/250 [==============================] - 3s 11ms/step - loss: 2.6891 - accuracy: 0.2947 - val_loss: 2.6237 - val_accuracy: 0.3123\n",
      "Epoch 33/100\n",
      "250/250 [==============================] - 3s 10ms/step - loss: 2.6661 - accuracy: 0.3023 - val_loss: 2.6071 - val_accuracy: 0.3138\n",
      "Epoch 34/100\n",
      "250/250 [==============================] - 3s 10ms/step - loss: 2.6265 - accuracy: 0.3062 - val_loss: 2.5591 - val_accuracy: 0.3368\n",
      "Epoch 35/100\n",
      "250/250 [==============================] - 3s 10ms/step - loss: 2.5830 - accuracy: 0.3184 - val_loss: 2.5285 - val_accuracy: 0.3313\n",
      "Epoch 36/100\n",
      "250/250 [==============================] - 3s 10ms/step - loss: 2.5281 - accuracy: 0.3340 - val_loss: 2.5106 - val_accuracy: 0.3393\n",
      "Epoch 37/100\n",
      "250/250 [==============================] - 3s 11ms/step - loss: 2.5058 - accuracy: 0.3259 - val_loss: 2.4906 - val_accuracy: 0.3283\n",
      "Epoch 38/100\n",
      "250/250 [==============================] - 3s 11ms/step - loss: 2.4681 - accuracy: 0.3430 - val_loss: 2.4599 - val_accuracy: 0.3483\n",
      "Epoch 39/100\n",
      "250/250 [==============================] - 3s 11ms/step - loss: 2.4368 - accuracy: 0.3476 - val_loss: 2.4180 - val_accuracy: 0.3574\n",
      "Epoch 40/100\n",
      "250/250 [==============================] - 3s 10ms/step - loss: 2.3939 - accuracy: 0.3557 - val_loss: 2.3253 - val_accuracy: 0.3453\n",
      "Epoch 41/100\n",
      "250/250 [==============================] - 3s 11ms/step - loss: 2.3157 - accuracy: 0.3627 - val_loss: 2.2437 - val_accuracy: 0.3734\n",
      "Epoch 42/100\n",
      "250/250 [==============================] - 3s 11ms/step - loss: 2.2607 - accuracy: 0.3752 - val_loss: 2.2302 - val_accuracy: 0.3799\n",
      "Epoch 43/100\n",
      "250/250 [==============================] - 3s 10ms/step - loss: 2.2305 - accuracy: 0.3877 - val_loss: 2.1778 - val_accuracy: 0.4059\n",
      "Epoch 44/100\n",
      "250/250 [==============================] - 3s 11ms/step - loss: 2.1929 - accuracy: 0.3923 - val_loss: 2.1762 - val_accuracy: 0.3999\n",
      "Epoch 45/100\n",
      "250/250 [==============================] - 3s 10ms/step - loss: 2.1424 - accuracy: 0.4031 - val_loss: 2.1354 - val_accuracy: 0.3989\n",
      "Epoch 46/100\n",
      "250/250 [==============================] - 3s 10ms/step - loss: 2.1282 - accuracy: 0.4067 - val_loss: 2.1209 - val_accuracy: 0.4074\n",
      "Epoch 47/100\n",
      "250/250 [==============================] - 3s 11ms/step - loss: 2.0841 - accuracy: 0.4106 - val_loss: 2.1033 - val_accuracy: 0.4184\n",
      "Epoch 48/100\n",
      "250/250 [==============================] - 3s 10ms/step - loss: 2.0585 - accuracy: 0.4204 - val_loss: 2.0638 - val_accuracy: 0.4269\n",
      "Epoch 49/100\n",
      "250/250 [==============================] - 3s 10ms/step - loss: 2.0141 - accuracy: 0.4298 - val_loss: 2.0253 - val_accuracy: 0.4349\n",
      "Epoch 50/100\n",
      "250/250 [==============================] - 3s 10ms/step - loss: 1.9967 - accuracy: 0.4289 - val_loss: 2.0212 - val_accuracy: 0.4384\n",
      "Epoch 51/100\n",
      "250/250 [==============================] - 3s 10ms/step - loss: 1.9764 - accuracy: 0.4331 - val_loss: 1.9896 - val_accuracy: 0.4309\n",
      "Epoch 52/100\n",
      "250/250 [==============================] - 3s 10ms/step - loss: 1.9422 - accuracy: 0.4392 - val_loss: 2.0120 - val_accuracy: 0.4399\n",
      "Epoch 53/100\n",
      "250/250 [==============================] - 3s 10ms/step - loss: 1.9383 - accuracy: 0.4389 - val_loss: 1.9452 - val_accuracy: 0.4580\n",
      "Epoch 54/100\n",
      "250/250 [==============================] - 3s 10ms/step - loss: 1.8929 - accuracy: 0.4589 - val_loss: 1.9443 - val_accuracy: 0.4404\n",
      "Epoch 55/100\n",
      "250/250 [==============================] - 3s 11ms/step - loss: 1.8766 - accuracy: 0.4649 - val_loss: 1.9480 - val_accuracy: 0.4459\n",
      "Epoch 56/100\n",
      "250/250 [==============================] - 3s 10ms/step - loss: 1.8462 - accuracy: 0.4717 - val_loss: 1.9467 - val_accuracy: 0.4530\n",
      "Epoch 57/100\n",
      "250/250 [==============================] - 3s 11ms/step - loss: 1.8308 - accuracy: 0.4663 - val_loss: 1.8747 - val_accuracy: 0.4915\n",
      "Epoch 58/100\n",
      "250/250 [==============================] - 3s 10ms/step - loss: 1.7804 - accuracy: 0.4823 - val_loss: 1.8770 - val_accuracy: 0.4740\n",
      "Epoch 59/100\n",
      "250/250 [==============================] - 3s 10ms/step - loss: 1.7617 - accuracy: 0.4997 - val_loss: 1.8523 - val_accuracy: 0.4840\n",
      "Epoch 60/100\n",
      "250/250 [==============================] - 3s 10ms/step - loss: 1.7254 - accuracy: 0.4995 - val_loss: 1.8424 - val_accuracy: 0.4960\n",
      "Epoch 61/100\n",
      "250/250 [==============================] - 3s 10ms/step - loss: 1.7013 - accuracy: 0.5161 - val_loss: 1.9003 - val_accuracy: 0.4940\n",
      "Epoch 62/100\n",
      "250/250 [==============================] - 3s 10ms/step - loss: 1.6794 - accuracy: 0.5195 - val_loss: 1.8218 - val_accuracy: 0.4930\n",
      "Epoch 63/100\n",
      "250/250 [==============================] - 3s 11ms/step - loss: 1.6401 - accuracy: 0.5339 - val_loss: 1.8090 - val_accuracy: 0.5135\n",
      "Epoch 64/100\n",
      "250/250 [==============================] - 3s 10ms/step - loss: 1.6365 - accuracy: 0.5313 - val_loss: 1.7452 - val_accuracy: 0.5310\n",
      "Epoch 65/100\n",
      "250/250 [==============================] - 3s 11ms/step - loss: 1.5861 - accuracy: 0.5499 - val_loss: 1.7348 - val_accuracy: 0.5415\n",
      "Epoch 66/100\n",
      "250/250 [==============================] - 3s 11ms/step - loss: 1.5811 - accuracy: 0.5577 - val_loss: 1.8309 - val_accuracy: 0.5270\n",
      "Epoch 67/100\n",
      "250/250 [==============================] - 3s 10ms/step - loss: 1.5451 - accuracy: 0.5642 - val_loss: 1.7520 - val_accuracy: 0.5445\n",
      "Epoch 68/100\n",
      "250/250 [==============================] - 3s 11ms/step - loss: 1.5371 - accuracy: 0.5647 - val_loss: 1.7395 - val_accuracy: 0.5410\n",
      "Epoch 69/100\n",
      "250/250 [==============================] - 3s 11ms/step - loss: 1.4852 - accuracy: 0.5785 - val_loss: 1.7331 - val_accuracy: 0.5335\n",
      "Epoch 70/100\n",
      "250/250 [==============================] - 3s 11ms/step - loss: 1.4746 - accuracy: 0.5860 - val_loss: 1.7371 - val_accuracy: 0.5365\n",
      "Epoch 71/100\n",
      "250/250 [==============================] - 3s 10ms/step - loss: 1.4509 - accuracy: 0.5918 - val_loss: 1.7856 - val_accuracy: 0.5355\n",
      "Epoch 72/100\n",
      "250/250 [==============================] - 3s 11ms/step - loss: 1.4213 - accuracy: 0.5988 - val_loss: 1.7459 - val_accuracy: 0.5440\n",
      "Epoch 73/100\n",
      "250/250 [==============================] - 3s 11ms/step - loss: 1.4269 - accuracy: 0.5985 - val_loss: 1.7535 - val_accuracy: 0.5571\n",
      "Epoch 74/100\n",
      "250/250 [==============================] - 3s 11ms/step - loss: 1.4013 - accuracy: 0.6120 - val_loss: 1.7034 - val_accuracy: 0.5460\n",
      "Epoch 75/100\n",
      "250/250 [==============================] - 3s 10ms/step - loss: 1.3683 - accuracy: 0.6221 - val_loss: 1.7385 - val_accuracy: 0.5651\n",
      "Epoch 76/100\n",
      "250/250 [==============================] - 3s 10ms/step - loss: 1.3441 - accuracy: 0.6340 - val_loss: 1.7374 - val_accuracy: 0.5711\n",
      "Epoch 77/100\n",
      "250/250 [==============================] - 3s 10ms/step - loss: 1.3375 - accuracy: 0.6375 - val_loss: 1.7623 - val_accuracy: 0.5676\n",
      "Epoch 78/100\n",
      "250/250 [==============================] - 3s 11ms/step - loss: 1.3271 - accuracy: 0.6368 - val_loss: 1.7418 - val_accuracy: 0.5521\n",
      "Epoch 79/100\n",
      "250/250 [==============================] - 3s 11ms/step - loss: 1.3031 - accuracy: 0.6425 - val_loss: 1.7066 - val_accuracy: 0.5661\n",
      "Epoch 80/100\n",
      "250/250 [==============================] - 3s 10ms/step - loss: 1.2830 - accuracy: 0.6422 - val_loss: 1.7428 - val_accuracy: 0.5611\n",
      "Epoch 81/100\n",
      "250/250 [==============================] - 3s 10ms/step - loss: 1.2741 - accuracy: 0.6569 - val_loss: 1.7052 - val_accuracy: 0.5626\n",
      "Epoch 82/100\n",
      "250/250 [==============================] - 3s 10ms/step - loss: 1.2535 - accuracy: 0.6577 - val_loss: 1.6590 - val_accuracy: 0.5741\n",
      "Epoch 83/100\n",
      "250/250 [==============================] - 3s 10ms/step - loss: 1.2155 - accuracy: 0.6709 - val_loss: 1.6234 - val_accuracy: 0.5811\n",
      "Epoch 84/100\n",
      "250/250 [==============================] - 3s 10ms/step - loss: 1.2122 - accuracy: 0.6595 - val_loss: 1.6563 - val_accuracy: 0.5781\n",
      "Epoch 85/100\n",
      "250/250 [==============================] - 3s 10ms/step - loss: 1.1991 - accuracy: 0.6716 - val_loss: 1.6770 - val_accuracy: 0.5816\n",
      "Epoch 86/100\n",
      "250/250 [==============================] - 3s 10ms/step - loss: 1.1716 - accuracy: 0.6847 - val_loss: 1.6914 - val_accuracy: 0.5751\n",
      "Epoch 87/100\n",
      "250/250 [==============================] - 3s 11ms/step - loss: 1.1787 - accuracy: 0.6808 - val_loss: 1.7506 - val_accuracy: 0.5896\n",
      "Epoch 88/100\n",
      "250/250 [==============================] - 3s 10ms/step - loss: 1.1749 - accuracy: 0.6823 - val_loss: 1.6429 - val_accuracy: 0.5851\n",
      "Epoch 89/100\n",
      "250/250 [==============================] - 3s 10ms/step - loss: 1.1393 - accuracy: 0.6948 - val_loss: 1.7038 - val_accuracy: 0.5911\n",
      "Epoch 90/100\n",
      "250/250 [==============================] - 3s 10ms/step - loss: 1.1389 - accuracy: 0.6998 - val_loss: 1.6814 - val_accuracy: 0.5886\n",
      "Epoch 91/100\n",
      "250/250 [==============================] - 3s 10ms/step - loss: 1.1230 - accuracy: 0.6915 - val_loss: 1.6672 - val_accuracy: 0.5966\n",
      "Epoch 92/100\n",
      "250/250 [==============================] - 3s 10ms/step - loss: 1.1179 - accuracy: 0.6995 - val_loss: 1.6756 - val_accuracy: 0.5866\n",
      "Epoch 93/100\n",
      "250/250 [==============================] - 3s 11ms/step - loss: 1.0963 - accuracy: 0.7053 - val_loss: 1.6864 - val_accuracy: 0.5846\n",
      "Epoch 94/100\n",
      "250/250 [==============================] - 3s 10ms/step - loss: 1.0672 - accuracy: 0.7119 - val_loss: 1.6330 - val_accuracy: 0.5961\n",
      "Epoch 95/100\n",
      "250/250 [==============================] - 3s 10ms/step - loss: 1.0884 - accuracy: 0.7092 - val_loss: 1.6295 - val_accuracy: 0.6061\n",
      "Epoch 96/100\n",
      "250/250 [==============================] - 3s 11ms/step - loss: 1.0498 - accuracy: 0.7246 - val_loss: 1.6499 - val_accuracy: 0.6051\n",
      "Epoch 97/100\n",
      "250/250 [==============================] - 3s 11ms/step - loss: 1.0432 - accuracy: 0.7195 - val_loss: 1.6990 - val_accuracy: 0.5876\n",
      "Epoch 98/100\n",
      "250/250 [==============================] - 3s 10ms/step - loss: 1.0457 - accuracy: 0.7282 - val_loss: 1.6790 - val_accuracy: 0.5851\n",
      "Epoch 99/100\n",
      "250/250 [==============================] - 3s 11ms/step - loss: 1.0297 - accuracy: 0.7345 - val_loss: 1.6738 - val_accuracy: 0.6011\n",
      "Epoch 100/100\n",
      "250/250 [==============================] - 3s 10ms/step - loss: 1.0223 - accuracy: 0.7362 - val_loss: 1.6385 - val_accuracy: 0.5896\n"
     ]
    }
   ],
   "source": [
    "# обучение модели\n",
    "history_2 = model_2.fit(X_train, y_train, validation_data=(X_test, y_test), batch_size=32, epochs=100)"
   ]
  },
  {
   "cell_type": "markdown",
   "metadata": {},
   "source": [
    "## Визуализация результатов для улучшенной модели полносвязной сети"
   ]
  },
  {
   "cell_type": "code",
   "execution_count": 25,
   "metadata": {
    "scrolled": true
   },
   "outputs": [
    {
     "data": {
      "image/png": "[encoded data removed]",
      "text/plain": [
       "<Figure size 720x720 with 2 Axes>"
      ]
     },
     "metadata": {
      "needs_background": "light"
     },
     "output_type": "display_data"
    }
   ],
   "source": [
    "plot_history(history_2) "
   ]
  },
  {
   "cell_type": "markdown",
   "metadata": {},
   "source": [
    "### Из графиков видно, что для улучшения модели можно использовать раннюю остановку обучения на эпохе №70. Достижимая точность данной модели 73%."
   ]
  },
  {
   "cell_type": "markdown",
   "metadata": {},
   "source": [
    "# Построение архитектуры свёрточной нейросети для обучения"
   ]
  },
  {
   "cell_type": "code",
   "execution_count": 5,
   "metadata": {},
   "outputs": [],
   "source": [
    "# функция загрузки и разбиения данных на train/validation/test\n",
    "\n",
    "def prepare_datasets(test_size, val_size):\n",
    "    # загрузка данных\n",
    "    X, y = load_data(DATA_PATH)\n",
    "    \n",
    "    # разбиание данных на train/test\n",
    "    X_train, X_test, y_train, y_test = train_test_split(X, y, test_size=test_size)\n",
    "    \n",
    "    # создание выборки train/val \n",
    "    X_train, X_val, y_train, y_val = train_test_split(X_train, y_train, test_size=val_size)\n",
    "    \n",
    "    # 3D-массив (изображение с MFCCs) размером (130, 13, 1)\n",
    "    X_train = X_train[..., np.newaxis] # 4d массив = (num_samples, 130, 13, 1)\n",
    "    X_val = X_val[..., np.newaxis]\n",
    "    X_test = X_test[..., np.newaxis]\n",
    "    \n",
    "    return X_train, X_val, X_test, y_train, y_val, y_test"
   ]
  },
  {
   "cell_type": "code",
   "execution_count": 6,
   "metadata": {},
   "outputs": [],
   "source": [
    "# функция построения модели\n",
    "def build_model(input_shape):\n",
    "    \n",
    "    #create model\n",
    "    model = keras.Sequential()\n",
    "    # 1st conv layer\n",
    "    model.add(keras.layers.Conv2D(32, (3, 3), activation='relu', input_shape=input_shape))\n",
    "    model.add(keras.layers.MaxPool2D(pool_size=(3, 3), strides=(2, 2), padding='same'))\n",
    "    model.add(keras.layers.BatchNormalization())\n",
    "    \n",
    "    # 2nd conv layer\n",
    "    model.add(keras.layers.Conv2D(32, (3, 3), activation='relu', input_shape=input_shape))\n",
    "    model.add(keras.layers.MaxPool2D(pool_size=(3, 3), strides=(2, 2), padding='same'))\n",
    "    model.add(keras.layers.BatchNormalization())\n",
    "    \n",
    "    # 3rd conv layer\n",
    "    model.add(keras.layers.Conv2D(32, (2, 2), activation='relu', input_shape=input_shape))\n",
    "    model.add(keras.layers.MaxPool2D(pool_size=(2, 2), strides=(2, 2), padding='same'))\n",
    "    model.add(keras.layers.BatchNormalization())\n",
    "    \n",
    "    # flatten the output and feed it into dense layer\n",
    "    model.add(keras.layers.Flatten())\n",
    "    model.add(keras.layers.Dense(64, activation='relu'))\n",
    "    model.add(keras.layers.Dropout(0.3))\n",
    "    \n",
    "    #output layer\n",
    "    model.add(keras.layers.Dense(10, activation='softmax'))\n",
    "    \n",
    "    return model"
   ]
  },
  {
   "cell_type": "code",
   "execution_count": 9,
   "metadata": {},
   "outputs": [
    {
     "name": "stdout",
     "output_type": "stream",
     "text": [
      "Данные успешно загружены!\n"
     ]
    }
   ],
   "source": [
    "# создание train, validation и test наборов данных\n",
    "X_train, X_val, X_test, y_train, y_val, y_test = prepare_datasets(0.25, 0.2)"
   ]
  },
  {
   "cell_type": "code",
   "execution_count": 10,
   "metadata": {},
   "outputs": [
    {
     "name": "stdout",
     "output_type": "stream",
     "text": [
      "(5991, 130, 13, 1) (1498, 130, 13, 1) (2497, 130, 13, 1) (5991,) (1498,) (2497,)\n"
     ]
    }
   ],
   "source": [
    "print(X_train.shape, X_val.shape, X_test.shape, y_train.shape, y_val.shape, y_test.shape)"
   ]
  },
  {
   "cell_type": "code",
   "execution_count": 11,
   "metadata": {},
   "outputs": [],
   "source": [
    "# построение CNN\n",
    "input_shape = (X_train.shape[1], X_train.shape[2], X_train.shape[3])\n",
    "model_3 = build_model(input_shape)"
   ]
  },
  {
   "cell_type": "code",
   "execution_count": 12,
   "metadata": {},
   "outputs": [],
   "source": [
    "# компиляция сети\n",
    "optimizer = keras.optimizers.Adam(learning_rate=0.0001)\n",
    "model_3.compile(optimizer=optimizer,\n",
    "              loss=\"sparse_categorical_crossentropy\",\n",
    "              metrics=\"accuracy\")"
   ]
  },
  {
   "cell_type": "code",
   "execution_count": 13,
   "metadata": {},
   "outputs": [
    {
     "name": "stdout",
     "output_type": "stream",
     "text": [
      "Epoch 1/30\n",
      "188/188 [==============================] - 8s 35ms/step - loss: 2.3674 - accuracy: 0.2344 - val_loss: 1.8912 - val_accuracy: 0.3451\n",
      "Epoch 2/30\n",
      "188/188 [==============================] - 5s 28ms/step - loss: 1.8618 - accuracy: 0.3684 - val_loss: 1.5509 - val_accuracy: 0.4486\n",
      "Epoch 3/30\n",
      "188/188 [==============================] - 5s 25ms/step - loss: 1.6300 - accuracy: 0.4355 - val_loss: 1.3844 - val_accuracy: 0.5160\n",
      "Epoch 4/30\n",
      "188/188 [==============================] - 5s 25ms/step - loss: 1.4825 - accuracy: 0.4831 - val_loss: 1.2935 - val_accuracy: 0.5294\n",
      "Epoch 5/30\n",
      "188/188 [==============================] - 5s 25ms/step - loss: 1.3711 - accuracy: 0.5143 - val_loss: 1.2102 - val_accuracy: 0.5734\n",
      "Epoch 6/30\n",
      "188/188 [==============================] - 5s 25ms/step - loss: 1.3102 - accuracy: 0.5443 - val_loss: 1.1579 - val_accuracy: 0.5814\n",
      "Epoch 7/30\n",
      "188/188 [==============================] - 5s 26ms/step - loss: 1.2517 - accuracy: 0.5547 - val_loss: 1.1168 - val_accuracy: 0.6015\n",
      "Epoch 8/30\n",
      "188/188 [==============================] - 5s 25ms/step - loss: 1.1650 - accuracy: 0.5885 - val_loss: 1.0742 - val_accuracy: 0.6275\n",
      "Epoch 9/30\n",
      "188/188 [==============================] - 5s 27ms/step - loss: 1.1253 - accuracy: 0.6009 - val_loss: 1.0522 - val_accuracy: 0.6242\n",
      "Epoch 10/30\n",
      "188/188 [==============================] - 5s 25ms/step - loss: 1.0937 - accuracy: 0.6139 - val_loss: 1.0343 - val_accuracy: 0.6395\n",
      "Epoch 11/30\n",
      "188/188 [==============================] - 5s 25ms/step - loss: 1.0486 - accuracy: 0.6299 - val_loss: 1.0087 - val_accuracy: 0.6489\n",
      "Epoch 12/30\n",
      "188/188 [==============================] - 5s 25ms/step - loss: 1.0214 - accuracy: 0.6448 - val_loss: 0.9737 - val_accuracy: 0.6582\n",
      "Epoch 13/30\n",
      "188/188 [==============================] - 5s 25ms/step - loss: 0.9930 - accuracy: 0.6548 - val_loss: 0.9834 - val_accuracy: 0.6462\n",
      "Epoch 14/30\n",
      "188/188 [==============================] - 5s 25ms/step - loss: 0.9481 - accuracy: 0.6648 - val_loss: 0.9290 - val_accuracy: 0.6722\n",
      "Epoch 15/30\n",
      "188/188 [==============================] - 5s 25ms/step - loss: 0.9329 - accuracy: 0.6712 - val_loss: 0.9171 - val_accuracy: 0.6816\n",
      "Epoch 16/30\n",
      "188/188 [==============================] - 5s 25ms/step - loss: 0.8992 - accuracy: 0.6914 - val_loss: 0.9238 - val_accuracy: 0.6822\n",
      "Epoch 17/30\n",
      "188/188 [==============================] - 5s 25ms/step - loss: 0.8830 - accuracy: 0.6960 - val_loss: 0.8856 - val_accuracy: 0.6983\n",
      "Epoch 18/30\n",
      "188/188 [==============================] - 5s 25ms/step - loss: 0.8525 - accuracy: 0.7027 - val_loss: 0.8705 - val_accuracy: 0.6996\n",
      "Epoch 19/30\n",
      "188/188 [==============================] - 5s 25ms/step - loss: 0.8309 - accuracy: 0.7076 - val_loss: 0.8735 - val_accuracy: 0.6943\n",
      "Epoch 20/30\n",
      "188/188 [==============================] - 5s 25ms/step - loss: 0.8196 - accuracy: 0.7157 - val_loss: 0.8342 - val_accuracy: 0.7096\n",
      "Epoch 21/30\n",
      "188/188 [==============================] - 5s 25ms/step - loss: 0.7875 - accuracy: 0.7279 - val_loss: 0.8401 - val_accuracy: 0.7150\n",
      "Epoch 22/30\n",
      "188/188 [==============================] - 5s 25ms/step - loss: 0.7604 - accuracy: 0.7401 - val_loss: 0.8412 - val_accuracy: 0.7143\n",
      "Epoch 23/30\n",
      "188/188 [==============================] - 5s 25ms/step - loss: 0.7497 - accuracy: 0.7399 - val_loss: 0.8172 - val_accuracy: 0.7176\n",
      "Epoch 24/30\n",
      "188/188 [==============================] - 5s 25ms/step - loss: 0.7335 - accuracy: 0.7468 - val_loss: 0.7913 - val_accuracy: 0.7243\n",
      "Epoch 25/30\n",
      "188/188 [==============================] - 5s 25ms/step - loss: 0.7145 - accuracy: 0.7538 - val_loss: 0.8074 - val_accuracy: 0.7216\n",
      "Epoch 26/30\n",
      "188/188 [==============================] - 5s 25ms/step - loss: 0.7004 - accuracy: 0.7588 - val_loss: 0.7659 - val_accuracy: 0.7430\n",
      "Epoch 27/30\n",
      "188/188 [==============================] - 5s 25ms/step - loss: 0.7023 - accuracy: 0.7588 - val_loss: 0.8052 - val_accuracy: 0.7216\n",
      "Epoch 28/30\n",
      "188/188 [==============================] - 5s 25ms/step - loss: 0.6874 - accuracy: 0.7625 - val_loss: 0.7718 - val_accuracy: 0.7343\n",
      "Epoch 29/30\n",
      "188/188 [==============================] - 5s 26ms/step - loss: 0.6603 - accuracy: 0.7735 - val_loss: 0.7656 - val_accuracy: 0.7403\n",
      "Epoch 30/30\n",
      "188/188 [==============================] - 5s 25ms/step - loss: 0.6528 - accuracy: 0.7773 - val_loss: 0.7763 - val_accuracy: 0.7356\n"
     ]
    }
   ],
   "source": [
    "# обучение CNN\n",
    "history_3 = model_3.fit(X_train, y_train, validation_data=(X_val, y_val), batch_size=32, epochs=30)"
   ]
  },
  {
   "cell_type": "code",
   "execution_count": 26,
   "metadata": {},
   "outputs": [
    {
     "name": "stdout",
     "output_type": "stream",
     "text": [
      "63/63 [==============================] - 1s 11ms/step - loss: 0.5686 - accuracy: 0.8143\n",
      "Accuracy on test set is: 0.8143143057823181\n"
     ]
    }
   ],
   "source": [
    "# оценка работы CNN на тесте\n",
    "test_error, test_accuracy = model_3.evaluate(X_test, y_test, verbose=1)\n",
    "print(\"Accuracy on test set is: {}\".format(test_accuracy))"
   ]
  },
  {
   "cell_type": "markdown",
   "metadata": {},
   "source": [
    "## Предсказание данных"
   ]
  },
  {
   "cell_type": "code",
   "execution_count": 15,
   "metadata": {},
   "outputs": [
    {
     "name": "stdout",
     "output_type": "stream",
     "text": [
      "Expected index: 6, Predicted index: [6]\n"
     ]
    }
   ],
   "source": [
    "# предсказание на данных\n",
    "X = X_test[0][np.newaxis, ...]\n",
    "y = y_test[0]   \n",
    "\n",
    "prediction = model_3.predict(X)\n",
    "predicted_index = np.argmax(prediction, axis=1)\n",
    "print(\"Expected index: {}, Predicted index: {}\".format(y, predicted_index))"
   ]
  },
  {
   "cell_type": "markdown",
   "metadata": {},
   "source": [
    "## Визуализация результата обучения CNN"
   ]
  },
  {
   "cell_type": "code",
   "execution_count": 18,
   "metadata": {},
   "outputs": [
    {
     "data": {
      "image/png": "[encoded data removed]",
      "text/plain": [
       "<Figure size 720x720 with 2 Axes>"
      ]
     },
     "metadata": {
      "needs_background": "light"
     },
     "output_type": "display_data"
    }
   ],
   "source": [
    "plot_history(history_3) # визуализация результата"
   ]
  },
  {
   "cell_type": "markdown",
   "metadata": {},
   "source": [
    "### Обучение свёрточной нейросети на тесте даёт среднюю accuracy 72%. Переобучения и неодообучения не наблюдается."
   ]
  }
 ],
 "metadata": {
  "kernelspec": {
   "display_name": "Python 3",
   "language": "python",
   "name": "python3"
  },
  "language_info": {
   "codemirror_mode": {
    "name": "ipython",
    "version": 3
   },
   "file_extension": ".py",
   "mimetype": "text/x-python",
   "name": "python",
   "nbconvert_exporter": "python",
   "pygments_lexer": "ipython3",
   "version": "3.8.8"
  }
 },
 "nbformat": 4,
 "nbformat_minor": 4
}
